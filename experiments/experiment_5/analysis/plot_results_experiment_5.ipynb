{
 "cells": [
  {
   "cell_type": "markdown",
   "metadata": {},
   "source": [
    "# Experiment 5: Optimizing also drug-likeliness"
   ]
  },
  {
   "cell_type": "code",
   "execution_count": 1,
   "metadata": {},
   "outputs": [
    {
     "name": "stdout",
     "output_type": "stream",
     "text": [
      "/Users/kevinmaikjablonka/Dropbox (LSMO)/replication_challenge_ga_alan/selfies_ga_nn_replication/experiments/experiment_5/analysis\n"
     ]
    }
   ],
   "source": [
    "!pwd"
   ]
  },
  {
   "cell_type": "code",
   "execution_count": null,
   "metadata": {},
   "outputs": [],
   "source": [
    "import wandb\n",
    "import pandas as pd\n",
    "import holoviews as hv\n",
    "from holoviews import opts\n",
    "import numpy as np \n",
    "from rdkit import Chem\n",
    "from rdkit.Chem import Draw\n",
    "from bokeh.io import export_png, export_svgs\n",
    "import ast\n",
    "import time\n",
    "from collections import OrderedDict\n",
    "hv.extension('bokeh')\n",
    "import string\n",
    "\n",
    "def export_svg(obj, filename):\n",
    "    plot_state = hv.renderer('bokeh').get_plot(obj).state\n",
    "    plot_state.output_backend = 'svg'\n",
    "    export_svgs(plot_state, filename=filename)\n",
    "    \n",
    "    \n",
    "def draw_multiple_mol(mols, mols_per_row=4, file_path=None, subImgSize=(300, 160)):\n",
    "    mols_per_row = min(len(mols), mols_per_row)\n",
    "    img=Draw.MolsToGridImage(mols, molsPerRow=mols_per_row, subImgSize=subImgSize, useSVG=True)\n",
    "    if file_path:\n",
    "        with open(file_path, 'w') as f_handle:\n",
    "            f_handle.write(img.data)\n",
    "    return img\n",
    "\n",
    "import sys\n",
    "sys.path.append('../../')\n",
    "from utils import get_smiles_sizes, get_pairwise_similarities, get_similarity_size_evolution\n",
    "    \n",
    "api = wandb.Api()\n",
    "\n",
    "import matplotlib.pyplot as plt\n",
    "\n",
    "import seaborn as sns\n",
    "plt.style.use('science')\n",
    "\n",
    "\n",
    "plt.rcParams.update({\n",
    "#     \"font.family\": \"serif\",   # specify font family here\n",
    "#     \"font.serif\": [\"Times\"],  # specify font here\n",
    "    \"font.size\":10})          # specify font size here"
   ]
  },
  {
   "cell_type": "code",
   "execution_count": null,
   "metadata": {},
   "outputs": [],
   "source": []
  }
 ],
 "metadata": {
  "kernelspec": {
   "display_name": "Python 3",
   "language": "python",
   "name": "python3"
  },
  "language_info": {
   "codemirror_mode": {
    "name": "ipython",
    "version": 3
   },
   "file_extension": ".py",
   "mimetype": "text/x-python",
   "name": "python",
   "nbconvert_exporter": "python",
   "pygments_lexer": "ipython3",
   "version": "3.8.6"
  }
 },
 "nbformat": 4,
 "nbformat_minor": 4
}
