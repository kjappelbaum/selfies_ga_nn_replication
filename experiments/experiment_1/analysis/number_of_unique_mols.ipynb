{
 "cells": [
  {
   "cell_type": "markdown",
   "metadata": {},
   "source": [
    "# Analyse the number of unique mols/generation for different settings"
   ]
  },
  {
   "cell_type": "code",
   "execution_count": 1,
   "metadata": {},
   "outputs": [],
   "source": [
    "from glob import glob \n",
    "\n",
    "from pathlib import Path\n",
    "\n",
    "import matplotlib.pyplot as plt\n",
    "\n",
    "import pandas as pd\n",
    "import ipyparallel as ipp\n",
    "import string \n",
    "\n",
    "import seaborn as sns\n",
    "plt.style.use('science')\n",
    "\n",
    "import sys\n",
    "sys.path.append('../../')\n",
    "from utils import get_smiles_sizes, get_pairwise_similarities\n",
    "import net.evolution_functions as evo"
   ]
  },
  {
   "cell_type": "code",
   "execution_count": 2,
   "metadata": {},
   "outputs": [],
   "source": [
    "all_files = glob('../ga/results_beta_*/results/results*/*/smiles_ordered.txt')"
   ]
  },
  {
   "cell_type": "code",
   "execution_count": 3,
   "metadata": {},
   "outputs": [],
   "source": [
    "def get_ratio_unique_mols(file):\n",
    "\n",
    "    with open(file, 'r') as fh: \n",
    "        lines = fh.readlines()\n",
    "    \n",
    "    mols = []\n",
    "    for line in lines: \n",
    "        mol, _, _ = evo.sanitize_smiles(line.strip())\n",
    "        mols.append(mol)\n",
    "        \n",
    "    \n",
    "    sim = get_pairwise_similarities(mols)\n",
    "            \n",
    "    return len(set(lines))/len(lines), sim"
   ]
  },
  {
   "cell_type": "code",
   "execution_count": 4,
   "metadata": {},
   "outputs": [],
   "source": [
    "def split_filename(filename):\n",
    "    \n",
    "    parts = Path(filename).parts\n",
    "    generation = int(parts[-2])\n",
    "    parts_2 = parts[2].split('_')\n",
    "    beta = float(parts_2[-2])\n",
    "    repeat = int(parts_2[-1])\n",
    "    \n",
    "    return {\n",
    "        'beta': beta, \n",
    "        'repeat': repeat, \n",
    "        'generation': generation\n",
    "    }"
   ]
  },
  {
   "cell_type": "code",
   "execution_count": 5,
   "metadata": {},
   "outputs": [
    {
     "data": {
      "text/plain": [
       "{'beta': -100.0, 'repeat': 1, 'generation': 135}"
      ]
     },
     "execution_count": 5,
     "metadata": {},
     "output_type": "execute_result"
    }
   ],
   "source": [
    "split_filename(all_files[0])"
   ]
  },
  {
   "cell_type": "code",
   "execution_count": 6,
   "metadata": {},
   "outputs": [],
   "source": [
    "df = pd.read_csv('experiment_1_diversity_2.csv')"
   ]
  },
  {
   "cell_type": "code",
   "execution_count": 7,
   "metadata": {},
   "outputs": [
    {
     "data": {
      "text/plain": [
       "array([ 100. ,  -10. ,  -50. ,    0. ,    0.1,   10. ,   -0.1, -100. ,\n",
       "         50. ])"
      ]
     },
     "execution_count": 7,
     "metadata": {},
     "output_type": "execute_result"
    }
   ],
   "source": [
    "df['beta'].unique()"
   ]
  },
  {
   "cell_type": "code",
   "execution_count": 8,
   "metadata": {},
   "outputs": [
    {
     "data": {
      "text/html": [
       "<div>\n",
       "<style scoped>\n",
       "    .dataframe tbody tr th:only-of-type {\n",
       "        vertical-align: middle;\n",
       "    }\n",
       "\n",
       "    .dataframe tbody tr th {\n",
       "        vertical-align: top;\n",
       "    }\n",
       "\n",
       "    .dataframe thead th {\n",
       "        text-align: right;\n",
       "    }\n",
       "</style>\n",
       "<table border=\"1\" class=\"dataframe\">\n",
       "  <thead>\n",
       "    <tr style=\"text-align: right;\">\n",
       "      <th></th>\n",
       "      <th>beta</th>\n",
       "      <th>repeat</th>\n",
       "      <th>generation</th>\n",
       "      <th>unique_ratio</th>\n",
       "      <th>similarity</th>\n",
       "    </tr>\n",
       "  </thead>\n",
       "  <tbody>\n",
       "    <tr>\n",
       "      <th>0</th>\n",
       "      <td>100.0</td>\n",
       "      <td>0</td>\n",
       "      <td>338</td>\n",
       "      <td>0.368</td>\n",
       "      <td>0.262878</td>\n",
       "    </tr>\n",
       "    <tr>\n",
       "      <th>1</th>\n",
       "      <td>100.0</td>\n",
       "      <td>0</td>\n",
       "      <td>263</td>\n",
       "      <td>0.356</td>\n",
       "      <td>0.359614</td>\n",
       "    </tr>\n",
       "    <tr>\n",
       "      <th>2</th>\n",
       "      <td>100.0</td>\n",
       "      <td>0</td>\n",
       "      <td>334</td>\n",
       "      <td>0.356</td>\n",
       "      <td>0.286698</td>\n",
       "    </tr>\n",
       "    <tr>\n",
       "      <th>3</th>\n",
       "      <td>100.0</td>\n",
       "      <td>0</td>\n",
       "      <td>69</td>\n",
       "      <td>0.672</td>\n",
       "      <td>0.191365</td>\n",
       "    </tr>\n",
       "    <tr>\n",
       "      <th>4</th>\n",
       "      <td>100.0</td>\n",
       "      <td>0</td>\n",
       "      <td>376</td>\n",
       "      <td>0.326</td>\n",
       "      <td>0.230552</td>\n",
       "    </tr>\n",
       "  </tbody>\n",
       "</table>\n",
       "</div>"
      ],
      "text/plain": [
       "    beta  repeat  generation  unique_ratio  similarity\n",
       "0  100.0       0         338         0.368    0.262878\n",
       "1  100.0       0         263         0.356    0.359614\n",
       "2  100.0       0         334         0.356    0.286698\n",
       "3  100.0       0          69         0.672    0.191365\n",
       "4  100.0       0         376         0.326    0.230552"
      ]
     },
     "execution_count": 8,
     "metadata": {},
     "output_type": "execute_result"
    }
   ],
   "source": [
    "df.head()"
   ]
  },
  {
   "cell_type": "code",
   "execution_count": 12,
   "metadata": {},
   "outputs": [],
   "source": [
    "df_agg_unique = df.groupby(['beta', 'generation']).agg({'unique_ratio': ['mean', 'std', 'count']}) \n",
    "df_agg_similarity = df.groupby(['beta', 'generation']).agg({'similarity': ['mean', 'std', 'count']}) "
   ]
  },
  {
   "cell_type": "code",
   "execution_count": 13,
   "metadata": {},
   "outputs": [
    {
     "data": {
      "text/html": [
       "<div>\n",
       "<style scoped>\n",
       "    .dataframe tbody tr th:only-of-type {\n",
       "        vertical-align: middle;\n",
       "    }\n",
       "\n",
       "    .dataframe tbody tr th {\n",
       "        vertical-align: top;\n",
       "    }\n",
       "\n",
       "    .dataframe thead tr th {\n",
       "        text-align: left;\n",
       "    }\n",
       "\n",
       "    .dataframe thead tr:last-of-type th {\n",
       "        text-align: right;\n",
       "    }\n",
       "</style>\n",
       "<table border=\"1\" class=\"dataframe\">\n",
       "  <thead>\n",
       "    <tr>\n",
       "      <th></th>\n",
       "      <th></th>\n",
       "      <th colspan=\"3\" halign=\"left\">similarity</th>\n",
       "    </tr>\n",
       "    <tr>\n",
       "      <th></th>\n",
       "      <th></th>\n",
       "      <th>mean</th>\n",
       "      <th>std</th>\n",
       "      <th>count</th>\n",
       "    </tr>\n",
       "    <tr>\n",
       "      <th>beta</th>\n",
       "      <th>generation</th>\n",
       "      <th></th>\n",
       "      <th></th>\n",
       "      <th></th>\n",
       "    </tr>\n",
       "  </thead>\n",
       "  <tbody>\n",
       "    <tr>\n",
       "      <th rowspan=\"5\" valign=\"top\">-100.0</th>\n",
       "      <th>1</th>\n",
       "      <td>1.000000</td>\n",
       "      <td>0.000000</td>\n",
       "      <td>4</td>\n",
       "    </tr>\n",
       "    <tr>\n",
       "      <th>2</th>\n",
       "      <td>0.266885</td>\n",
       "      <td>0.054054</td>\n",
       "      <td>4</td>\n",
       "    </tr>\n",
       "    <tr>\n",
       "      <th>3</th>\n",
       "      <td>0.085413</td>\n",
       "      <td>0.008929</td>\n",
       "      <td>4</td>\n",
       "    </tr>\n",
       "    <tr>\n",
       "      <th>4</th>\n",
       "      <td>0.078968</td>\n",
       "      <td>0.012879</td>\n",
       "      <td>4</td>\n",
       "    </tr>\n",
       "    <tr>\n",
       "      <th>5</th>\n",
       "      <td>0.084504</td>\n",
       "      <td>0.008853</td>\n",
       "      <td>4</td>\n",
       "    </tr>\n",
       "  </tbody>\n",
       "</table>\n",
       "</div>"
      ],
      "text/plain": [
       "                  similarity                \n",
       "                        mean       std count\n",
       "beta   generation                           \n",
       "-100.0 1            1.000000  0.000000     4\n",
       "       2            0.266885  0.054054     4\n",
       "       3            0.085413  0.008929     4\n",
       "       4            0.078968  0.012879     4\n",
       "       5            0.084504  0.008853     4"
      ]
     },
     "execution_count": 13,
     "metadata": {},
     "output_type": "execute_result"
    }
   ],
   "source": [
    "df_agg_similarity.head()"
   ]
  },
  {
   "cell_type": "code",
   "execution_count": 22,
   "metadata": {},
   "outputs": [
    {
     "data": {
      "text/html": [
       "<div>\n",
       "<style scoped>\n",
       "    .dataframe tbody tr th:only-of-type {\n",
       "        vertical-align: middle;\n",
       "    }\n",
       "\n",
       "    .dataframe tbody tr th {\n",
       "        vertical-align: top;\n",
       "    }\n",
       "\n",
       "    .dataframe thead tr th {\n",
       "        text-align: left;\n",
       "    }\n",
       "\n",
       "    .dataframe thead tr:last-of-type th {\n",
       "        text-align: right;\n",
       "    }\n",
       "</style>\n",
       "<table border=\"1\" class=\"dataframe\">\n",
       "  <thead>\n",
       "    <tr>\n",
       "      <th></th>\n",
       "      <th colspan=\"3\" halign=\"left\">unique_ratio</th>\n",
       "    </tr>\n",
       "    <tr>\n",
       "      <th></th>\n",
       "      <th>mean</th>\n",
       "      <th>std</th>\n",
       "      <th>count</th>\n",
       "    </tr>\n",
       "    <tr>\n",
       "      <th>generation</th>\n",
       "      <th></th>\n",
       "      <th></th>\n",
       "      <th></th>\n",
       "    </tr>\n",
       "  </thead>\n",
       "  <tbody>\n",
       "    <tr>\n",
       "      <th>1</th>\n",
       "      <td>0.0020</td>\n",
       "      <td>0.000000</td>\n",
       "      <td>5</td>\n",
       "    </tr>\n",
       "    <tr>\n",
       "      <th>2</th>\n",
       "      <td>0.0380</td>\n",
       "      <td>0.000000</td>\n",
       "      <td>5</td>\n",
       "    </tr>\n",
       "    <tr>\n",
       "      <th>3</th>\n",
       "      <td>0.2304</td>\n",
       "      <td>0.017053</td>\n",
       "      <td>5</td>\n",
       "    </tr>\n",
       "    <tr>\n",
       "      <th>4</th>\n",
       "      <td>0.4752</td>\n",
       "      <td>0.033841</td>\n",
       "      <td>5</td>\n",
       "    </tr>\n",
       "    <tr>\n",
       "      <th>5</th>\n",
       "      <td>0.6544</td>\n",
       "      <td>0.036315</td>\n",
       "      <td>5</td>\n",
       "    </tr>\n",
       "    <tr>\n",
       "      <th>...</th>\n",
       "      <td>...</td>\n",
       "      <td>...</td>\n",
       "      <td>...</td>\n",
       "    </tr>\n",
       "    <tr>\n",
       "      <th>496</th>\n",
       "      <td>0.2732</td>\n",
       "      <td>0.091133</td>\n",
       "      <td>5</td>\n",
       "    </tr>\n",
       "    <tr>\n",
       "      <th>497</th>\n",
       "      <td>0.2716</td>\n",
       "      <td>0.061244</td>\n",
       "      <td>5</td>\n",
       "    </tr>\n",
       "    <tr>\n",
       "      <th>498</th>\n",
       "      <td>0.2284</td>\n",
       "      <td>0.029100</td>\n",
       "      <td>5</td>\n",
       "    </tr>\n",
       "    <tr>\n",
       "      <th>499</th>\n",
       "      <td>0.2608</td>\n",
       "      <td>0.043373</td>\n",
       "      <td>5</td>\n",
       "    </tr>\n",
       "    <tr>\n",
       "      <th>500</th>\n",
       "      <td>0.2668</td>\n",
       "      <td>0.057526</td>\n",
       "      <td>5</td>\n",
       "    </tr>\n",
       "  </tbody>\n",
       "</table>\n",
       "<p>500 rows × 3 columns</p>\n",
       "</div>"
      ],
      "text/plain": [
       "           unique_ratio                \n",
       "                   mean       std count\n",
       "generation                             \n",
       "1                0.0020  0.000000     5\n",
       "2                0.0380  0.000000     5\n",
       "3                0.2304  0.017053     5\n",
       "4                0.4752  0.033841     5\n",
       "5                0.6544  0.036315     5\n",
       "...                 ...       ...   ...\n",
       "496              0.2732  0.091133     5\n",
       "497              0.2716  0.061244     5\n",
       "498              0.2284  0.029100     5\n",
       "499              0.2608  0.043373     5\n",
       "500              0.2668  0.057526     5\n",
       "\n",
       "[500 rows x 3 columns]"
      ]
     },
     "execution_count": 22,
     "metadata": {},
     "output_type": "execute_result"
    }
   ],
   "source": [
    "df_agg_unique.loc[100]"
   ]
  },
  {
   "cell_type": "code",
   "execution_count": 16,
   "metadata": {},
   "outputs": [],
   "source": [
    "import matplotlib\n",
    "norm = matplotlib.colors.Normalize(vmin=-110, vmax=110)\n",
    "cmap = matplotlib.cm.get_cmap('coolwarm')"
   ]
  },
  {
   "cell_type": "code",
   "execution_count": 96,
   "metadata": {},
   "outputs": [
    {
     "data": {
      "image/png": "[encoded data removed]",
      "text/plain": [
       "<Figure size 432x288 with 2 Axes>"
      ]
     },
     "metadata": {
      "needs_background": "light"
     },
     "output_type": "display_data"
    }
   ],
   "source": [
    "fig, ax = plt.subplots(1,2, figsize=(6,4), sharey='all', sharex='all')\n",
    "\n",
    "for beta in sorted(df['beta'].unique().tolist()):\n",
    "    ax[0].fill_between(np.arange(len(df_agg.loc[beta]['unique_ratio']['mean'])), \n",
    "            df_agg_unique.loc[beta]['unique_ratio']['mean'] - df_agg_unique.loc[beta]['unique_ratio']['mean'],\n",
    "             df_agg_unique.loc[beta]['unique_ratio']['mean'] + df_agg_unique.loc[beta]['unique_ratio']['mean'],\n",
    "            color=cmap(norm(beta)), label='__no_legend__', alpha=.01)\n",
    "    \n",
    "for beta in sorted(df['beta'].unique().tolist()):\n",
    "    ax[0].plot(df_agg_unique.loc[beta]['unique_ratio']['mean'], c=cmap(norm(beta)), label=beta)\n",
    "\n",
    "\n",
    "for beta in sorted(df['beta'].unique().tolist()):\n",
    "    ax[1].fill_between(np.arange(len(df_agg_similarity.loc[beta]['similarity']['mean'])), \n",
    "            df_agg_similarity.loc[beta]['similarity']['mean'] - df_agg_similarity.loc[beta]['similarity']['mean'],\n",
    "             df_agg_similarity.loc[beta]['similarity']['mean'] + df_agg_similarity.loc[beta]['similarity']['mean'],\n",
    "            color=cmap(norm(beta)), label='__no_legend__', alpha=.01)\n",
    "    \n",
    "for beta in sorted(df['beta'].unique().tolist()):\n",
    "    ax[1].plot(df_agg_similarity.loc[beta]['similarity']['mean'], c=cmap(norm(beta)), label=beta)\n",
    "\n",
    "\n",
    "ax[0].set_xlabel('generation')\n",
    "ax[1].set_xlabel('generation')\n",
    "ax[0].set_ylabel('fraction unique molecules')\n",
    "ax[1].set_ylabel('mean Tanimoto similarity')\n",
    "\n",
    "ax[0].legend(title=r'$\\beta$', labelspacing=0)\n",
    "\n",
    "for i, a in enumerate(ax):\n",
    "    a.text(-0.1, 1.05, string.ascii_lowercase[i] + \")\", transform=a.transAxes, \n",
    "            size=12, weight='bold')\n",
    "   \n",
    "\n",
    "ax[1].set_ylim(0,1)\n",
    "fig.tight_layout()\n",
    "fig.savefig('fraction_unique.pdf', bbox_inches='tight')"
   ]
  },
  {
   "cell_type": "code",
   "execution_count": 41,
   "metadata": {},
   "outputs": [
    {
     "data": {
      "text/plain": [
       "<matplotlib.collections.PathCollection at 0x7ffd010c9d30>"
      ]
     },
     "execution_count": 41,
     "metadata": {},
     "output_type": "execute_result"
    },
    {
     "data": {
      "image/png": "[encoded data removed]",
      "text/plain": [
       "<Figure size 252x189 with 1 Axes>"
      ]
     },
     "metadata": {
      "needs_background": "light"
     },
     "output_type": "display_data"
    }
   ],
   "source": [
    "plt.scatter(df[df['beta'] == -0.1]['generation'], df[df['beta'] == -0.1]['unique_ratio'])"
   ]
  },
  {
   "cell_type": "code",
   "execution_count": 44,
   "metadata": {},
   "outputs": [
    {
     "data": {
      "text/plain": [
       "<matplotlib.collections.PathCollection at 0x7ffd01421220>"
      ]
     },
     "execution_count": 44,
     "metadata": {},
     "output_type": "execute_result"
    },
    {
     "data": {
      "image/png": "[encoded data removed]",
      "text/plain": [
       "<Figure size 252x189 with 1 Axes>"
      ]
     },
     "metadata": {
      "needs_background": "light"
     },
     "output_type": "display_data"
    }
   ],
   "source": [
    "plt.scatter(df[df['beta'] == -100]['generation'], df[df['beta'] == -100]['unique_ratio'])"
   ]
  }
 ],
 "metadata": {
  "kernelspec": {
   "display_name": "Python 3",
   "language": "python",
   "name": "python3"
  },
  "language_info": {
   "codemirror_mode": {
    "name": "ipython",
    "version": 3
   },
   "file_extension": ".py",
   "mimetype": "text/x-python",
   "name": "python",
   "nbconvert_exporter": "python",
   "pygments_lexer": "ipython3",
   "version": "3.8.6"
  }
 },
 "nbformat": 4,
 "nbformat_minor": 4
}
