{
 "cells": [
  {
   "cell_type": "markdown",
   "metadata": {},
   "source": [
    "# Looking into the cases for which the SELFIES v0 could not make a valid SMILES"
   ]
  },
  {
   "cell_type": "code",
   "execution_count": null,
   "metadata": {},
   "outputs": [],
   "source": [
    "import sys\n",
    "sys.path.append('../../')\n",
    "import net.evolution_functions as evo \n",
    "from sa_scorer.sascorer import calculate_score\n",
    "import pandas as pd"
   ]
  },
  {
   "cell_type": "code",
   "execution_count": 14,
   "metadata": {},
   "outputs": [],
   "source": [
    "def calc_properties(smile):\n",
    "    \"\"\"Calculate logP for each molecule in unseen_smile_ls, and record results\n",
    "    in locked dictionary props_collect\n",
    "    \"\"\"\n",
    " \n",
    "    mol, smi_canon, did_convert = evo.sanitize_smiles(smile)\n",
    "    logP = evo.get_logP(mol)  # Add calculation\n",
    "    sas = calculate_score(mol)\n",
    "    ring_penalty = calculate_ring_penalty(mol)\n",
    "    return {\n",
    "        'logP': logP, \n",
    "        'sas': sas, \n",
    "        'ring_penalty': ring_penalty\n",
    "    }\n",
    "    \n",
    "def calculate_ring_penalty(mol):\n",
    "    \"\"\"Calculate Ring penalty for each molecule in unseen_smile_ls,\n",
    "    results are recorded in locked dictionary props_collect\n",
    "    \"\"\"\n",
    "\n",
    "    cycle_list = mol.GetRingInfo().AtomRings()\n",
    "    if len(cycle_list) == 0:\n",
    "        cycle_length = 0\n",
    "    else:\n",
    "        cycle_length = max([len(j) for j in cycle_list])\n",
    "    if cycle_length <= 6:\n",
    "        cycle_length = 0\n",
    "    else:\n",
    "        cycle_length = cycle_length - 6\n",
    "    return cycle_length\n",
    "\n",
    "\n",
    "def obtained_standardized_properties(\n",
    "    logPs, SASs, ringPs\n",
    "):\n",
    "    \"\"\"Obtain calculated properties of molecules in molecules_here, and standardize\n",
    "    values base on properties of the Zinc Data set.\n",
    "    \"\"\"\n",
    "    # Standardize logP based on zinc logP (mean: 2.4729421499641497 & std : 1.4157879815362406)\n",
    "    logP_norm = (logPs - 2.4729421499641497) / 1.4157879815362406\n",
    "    logP_norm = logP_norm.reshape((logPs.shape[0], 1))\n",
    "\n",
    "    # Standardize SAS based on zinc SAS(mean: 3.0470797085649894    & std: 0.830643172314514)\n",
    "    SAS_norm = (SASs - 3.0470797085649894) / 0.830643172314514\n",
    "    SAS_norm = SAS_norm.reshape((SASs.shape[0], 1))\n",
    "\n",
    "    # Standardize RingP based on zinc RingP(mean: 0.038131530820234766 & std: 0.2240274735210179)\n",
    "    RingP_norm = (ringPs - 0.038131530820234766) / 0.2240274735210179\n",
    "    RingP_norm = RingP_norm.reshape((ringPs.shape[0], 1))\n",
    "\n",
    "    return (\n",
    "        logP_norm,\n",
    "        SAS_norm,\n",
    "        RingP_norm,\n",
    "    )\n",
    "\n",
    "\n"
   ]
  },
  {
   "cell_type": "code",
   "execution_count": 1,
   "metadata": {},
   "outputs": [],
   "source": [
    "from selfies import decoder"
   ]
  },
  {
   "cell_type": "code",
   "execution_count": 3,
   "metadata": {},
   "outputs": [],
   "source": [
    "with open('../../../random_baseline_failures', 'r') as fh:\n",
    "    lines = fh.readlines()"
   ]
  },
  {
   "cell_type": "code",
   "execution_count": 7,
   "metadata": {},
   "outputs": [],
   "source": [
    "smiles = []\n",
    "\n",
    "for line in lines[:100000]:\n",
    "    smiles.append(decoder(line.split(',')[0].strip()))"
   ]
  },
  {
   "cell_type": "code",
   "execution_count": null,
   "metadata": {},
   "outputs": [],
   "source": [
    "results = []\n",
    "for smile in smiles:\n",
    "    r = calc_properties(smiles[0])\n",
    "    r['smile'] = smile\n",
    "    r['j'] = r['logP'] - r['sas'] - r['ring_penalty']\n",
    "    \n",
    "    results.append(r)"
   ]
  },
  {
   "cell_type": "code",
   "execution_count": null,
   "metadata": {},
   "outputs": [],
   "source": []
  }
 ],
 "metadata": {
  "kernelspec": {
   "display_name": "Python 3",
   "language": "python",
   "name": "python3"
  },
  "language_info": {
   "codemirror_mode": {
    "name": "ipython",
    "version": 3
   },
   "file_extension": ".py",
   "mimetype": "text/x-python",
   "name": "python",
   "nbconvert_exporter": "python",
   "pygments_lexer": "ipython3",
   "version": "3.8.6"
  }
 },
 "nbformat": 4,
 "nbformat_minor": 4
}
