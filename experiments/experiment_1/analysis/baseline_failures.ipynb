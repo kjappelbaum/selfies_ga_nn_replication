{
 "cells": [
  {
   "cell_type": "markdown",
   "metadata": {},
   "source": [
    "# Looking into the cases for which the SELFIES v0 could not make a valid SMILES"
   ]
  },
  {
   "cell_type": "code",
   "execution_count": 18,
   "metadata": {},
   "outputs": [],
   "source": [
    "import sys\n",
    "sys.path.append('../../')\n",
    "import net.evolution_functions as evo \n",
    "from sa_scorer.sascorer import calculate_score\n",
    "import pandas as pd"
   ]
  },
  {
   "cell_type": "code",
   "execution_count": 14,
   "metadata": {},
   "outputs": [],
   "source": [
    "def calc_properties(smile):\n",
    "    \"\"\"Calculate logP for each molecule in unseen_smile_ls, and record results\n",
    "    in locked dictionary props_collect\n",
    "    \"\"\"\n",
    " \n",
    "    mol, smi_canon, did_convert = evo.sanitize_smiles(smile)\n",
    "    logP = evo.get_logP(mol)  # Add calculation\n",
    "    sas = calculate_score(mol)\n",
    "    ring_penalty = calculate_ring_penalty(mol)\n",
    "    return {\n",
    "        'logP': logP, \n",
    "        'sas': sas, \n",
    "        'ring_penalty': ring_penalty\n",
    "    }\n",
    "    \n",
    "def calculate_ring_penalty(mol):\n",
    "    \"\"\"Calculate Ring penalty for each molecule in unseen_smile_ls,\n",
    "    results are recorded in locked dictionary props_collect\n",
    "    \"\"\"\n",
    "\n",
    "    cycle_list = mol.GetRingInfo().AtomRings()\n",
    "    if len(cycle_list) == 0:\n",
    "        cycle_length = 0\n",
    "    else:\n",
    "        cycle_length = max([len(j) for j in cycle_list])\n",
    "    if cycle_length <= 6:\n",
    "        cycle_length = 0\n",
    "    else:\n",
    "        cycle_length = cycle_length - 6\n",
    "    return cycle_length\n",
    "\n",
    "\n",
    "def obtained_standardized_properties(\n",
    "    logPs, SASs, ringPs\n",
    "):\n",
    "    \"\"\"Obtain calculated properties of molecules in molecules_here, and standardize\n",
    "    values base on properties of the Zinc Data set.\n",
    "    \"\"\"\n",
    "    # Standardize logP based on zinc logP (mean: 2.4729421499641497 & std : 1.4157879815362406)\n",
    "    logP_norm = (logPs - 2.4729421499641497) / 1.4157879815362406\n",
    "    logP_norm = logP_norm.reshape((logPs.shape[0], 1))\n",
    "\n",
    "    # Standardize SAS based on zinc SAS(mean: 3.0470797085649894    & std: 0.830643172314514)\n",
    "    SAS_norm = (SASs - 3.0470797085649894) / 0.830643172314514\n",
    "    SAS_norm = SAS_norm.reshape((SASs.shape[0], 1))\n",
    "\n",
    "    # Standardize RingP based on zinc RingP(mean: 0.038131530820234766 & std: 0.2240274735210179)\n",
    "    RingP_norm = (ringPs - 0.038131530820234766) / 0.2240274735210179\n",
    "    RingP_norm = RingP_norm.reshape((ringPs.shape[0], 1))\n",
    "\n",
    "    return (\n",
    "        logP_norm,\n",
    "        SAS_norm,\n",
    "        RingP_norm,\n",
    "    )\n",
    "\n",
    "\n"
   ]
  },
  {
   "cell_type": "code",
   "execution_count": 1,
   "metadata": {},
   "outputs": [],
   "source": [
    "from selfies import decoder"
   ]
  },
  {
   "cell_type": "code",
   "execution_count": 3,
   "metadata": {},
   "outputs": [],
   "source": [
    "with open('../../../random_baseline_failures', 'r') as fh:\n",
    "    lines = fh.readlines()"
   ]
  },
  {
   "cell_type": "code",
   "execution_count": 31,
   "metadata": {},
   "outputs": [],
   "source": [
    "smiles = []\n",
    "\n",
    "for line in lines[:500000]:\n",
    "    smiles.append(decoder(line.split(',')[0].strip()))"
   ]
  },
  {
   "cell_type": "code",
   "execution_count": 32,
   "metadata": {},
   "outputs": [],
   "source": [
    "results = []\n",
    "for smile in smiles:\n",
    "    r = calc_properties(smile)\n",
    "    r['smile'] = smile\n",
    "    r['j'] = r['logP'] - r['sas'] - r['ring_penalty']\n",
    "    \n",
    "    results.append(r)"
   ]
  },
  {
   "cell_type": "code",
   "execution_count": 33,
   "metadata": {},
   "outputs": [],
   "source": [
    "df = pd.DataFrame(results)"
   ]
  },
  {
   "cell_type": "code",
   "execution_count": 37,
   "metadata": {},
   "outputs": [
    {
     "data": {
      "text/plain": [
       "-4.295424931372343"
      ]
     },
     "execution_count": 37,
     "metadata": {},
     "output_type": "execute_result"
    }
   ],
   "source": [
    "df['j'].mean()"
   ]
  },
  {
   "cell_type": "code",
   "execution_count": 38,
   "metadata": {},
   "outputs": [
    {
     "data": {
      "text/plain": [
       "2.7279356989078627"
      ]
     },
     "execution_count": 38,
     "metadata": {},
     "output_type": "execute_result"
    }
   ],
   "source": [
    "df['j'].std()"
   ]
  },
  {
   "cell_type": "code",
   "execution_count": 36,
   "metadata": {},
   "outputs": [
    {
     "data": {
      "text/html": [
       "<div>\n",
       "<style scoped>\n",
       "    .dataframe tbody tr th:only-of-type {\n",
       "        vertical-align: middle;\n",
       "    }\n",
       "\n",
       "    .dataframe tbody tr th {\n",
       "        vertical-align: top;\n",
       "    }\n",
       "\n",
       "    .dataframe thead th {\n",
       "        text-align: right;\n",
       "    }\n",
       "</style>\n",
       "<table border=\"1\" class=\"dataframe\">\n",
       "  <thead>\n",
       "    <tr style=\"text-align: right;\">\n",
       "      <th></th>\n",
       "      <th>logP</th>\n",
       "      <th>sas</th>\n",
       "      <th>ring_penalty</th>\n",
       "      <th>smile</th>\n",
       "      <th>j</th>\n",
       "    </tr>\n",
       "  </thead>\n",
       "  <tbody>\n",
       "    <tr>\n",
       "      <th>0</th>\n",
       "      <td>1.21117</td>\n",
       "      <td>5.334323</td>\n",
       "      <td>0</td>\n",
       "      <td>FSC=N</td>\n",
       "      <td>-4.123153</td>\n",
       "    </tr>\n",
       "    <tr>\n",
       "      <th>1</th>\n",
       "      <td>5.47540</td>\n",
       "      <td>5.016846</td>\n",
       "      <td>0</td>\n",
       "      <td>N(=C)C=CC=C=C(C=CC=CC=C=C(C))C=C1C=CC=C1F</td>\n",
       "      <td>0.458554</td>\n",
       "    </tr>\n",
       "    <tr>\n",
       "      <th>2</th>\n",
       "      <td>1.51690</td>\n",
       "      <td>5.780200</td>\n",
       "      <td>0</td>\n",
       "      <td>C(=NSF)F</td>\n",
       "      <td>-4.263300</td>\n",
       "    </tr>\n",
       "    <tr>\n",
       "      <th>3</th>\n",
       "      <td>1.72070</td>\n",
       "      <td>6.076670</td>\n",
       "      <td>0</td>\n",
       "      <td>FS#CN=NOOF</td>\n",
       "      <td>-4.355970</td>\n",
       "    </tr>\n",
       "    <tr>\n",
       "      <th>4</th>\n",
       "      <td>4.04786</td>\n",
       "      <td>5.252103</td>\n",
       "      <td>0</td>\n",
       "      <td>FOCC=CC=C=C(OS#N)C=CC=CC=C(OF)C#N</td>\n",
       "      <td>-1.204243</td>\n",
       "    </tr>\n",
       "  </tbody>\n",
       "</table>\n",
       "</div>"
      ],
      "text/plain": [
       "      logP       sas  ring_penalty                                      smile  \\\n",
       "0  1.21117  5.334323             0                                      FSC=N   \n",
       "1  5.47540  5.016846             0  N(=C)C=CC=C=C(C=CC=CC=C=C(C))C=C1C=CC=C1F   \n",
       "2  1.51690  5.780200             0                                   C(=NSF)F   \n",
       "3  1.72070  6.076670             0                                 FS#CN=NOOF   \n",
       "4  4.04786  5.252103             0          FOCC=CC=C=C(OS#N)C=CC=CC=C(OF)C#N   \n",
       "\n",
       "          j  \n",
       "0 -4.123153  \n",
       "1  0.458554  \n",
       "2 -4.263300  \n",
       "3 -4.355970  \n",
       "4 -1.204243  "
      ]
     },
     "execution_count": 36,
     "metadata": {},
     "output_type": "execute_result"
    }
   ],
   "source": [
    "df.head()"
   ]
  },
  {
   "cell_type": "code",
   "execution_count": null,
   "metadata": {},
   "outputs": [],
   "source": []
  }
 ],
 "metadata": {
  "kernelspec": {
   "display_name": "Python 3",
   "language": "python",
   "name": "python3"
  },
  "language_info": {
   "codemirror_mode": {
    "name": "ipython",
    "version": 3
   },
   "file_extension": ".py",
   "mimetype": "text/x-python",
   "name": "python",
   "nbconvert_exporter": "python",
   "pygments_lexer": "ipython3",
   "version": "3.8.6"
  }
 },
 "nbformat": 4,
 "nbformat_minor": 4
}
