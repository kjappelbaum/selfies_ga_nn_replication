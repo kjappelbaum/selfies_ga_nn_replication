{
 "cells": [
  {
   "cell_type": "markdown",
   "metadata": {},
   "source": [
    "# Summarize the results from the GuacaMol benchmark"
   ]
  },
  {
   "cell_type": "code",
   "execution_count": 52,
   "metadata": {},
   "outputs": [],
   "source": [
    "import pandas as pd \n",
    "import json \n",
    "from pathlib import Path\n",
    "from glob import glob\n",
    "import numpy as np \n",
    "import matplotlib.pyplot as plt\n",
    "\n",
    "import seaborn as sns\n",
    "plt.style.use('science')\n",
    "\n",
    "\n",
    "plt.rcParams.update({\n",
    "#     \"font.family\": \"serif\",   # specify font family here\n",
    "#     \"font.serif\": [\"Times\"],  # specify font here\n",
    "    \"font.size\":10})          # specify font size here"
   ]
  },
  {
   "cell_type": "code",
   "execution_count": 12,
   "metadata": {},
   "outputs": [],
   "source": [
    "def get_results_from_json(file):\n",
    "    with open(file, 'r') as fh: \n",
    "        results = json.loads(fh.read())\n",
    "        \n",
    "    results_dict = {}\n",
    "    for d in results['results']:\n",
    "        results_dict[d['benchmark_name']] = d['score']\n",
    "    \n",
    "    results_dict['name'] = Path(file).stem\n",
    "    return results_dict"
   ]
  },
  {
   "cell_type": "code",
   "execution_count": 18,
   "metadata": {},
   "outputs": [],
   "source": [
    "results = []\n",
    "\n",
    "\n",
    "for file in glob(\"*.json\"):\n",
    "    results.append(get_results_from_json(file))"
   ]
  },
  {
   "cell_type": "code",
   "execution_count": 19,
   "metadata": {},
   "outputs": [],
   "source": [
    "df = pd.DataFrame(results)"
   ]
  },
  {
   "cell_type": "code",
   "execution_count": 21,
   "metadata": {},
   "outputs": [],
   "source": [
    "df.index = df['name']"
   ]
  },
  {
   "cell_type": "code",
   "execution_count": 48,
   "metadata": {},
   "outputs": [],
   "source": [
    "not_ours = [\"graph_mcts\", \"smiles_ga\", \"graph_ga\", \"best_of_dataset\", \"smiles_lstm\"]"
   ]
  },
  {
   "cell_type": "code",
   "execution_count": 53,
   "metadata": {},
   "outputs": [],
   "source": [
    "maxima = {}\n",
    "\n",
    "for column in df.columns:\n",
    "    if column != 'name':\n",
    "        maxima[column] = np.max(df[column][not_ours])\n",
    "    else:\n",
    "        maxima['name'] = 'leading'"
   ]
  },
  {
   "cell_type": "code",
   "execution_count": 55,
   "metadata": {},
   "outputs": [],
   "source": [
    "df_maxima = pd.DataFrame([maxima])\n",
    "df_maxima.index = df_maxima['name']"
   ]
  },
  {
   "cell_type": "code",
   "execution_count": 56,
   "metadata": {},
   "outputs": [],
   "source": [
    "df_all = pd.concat([df, df_maxima])"
   ]
  },
  {
   "cell_type": "code",
   "execution_count": 73,
   "metadata": {},
   "outputs": [],
   "source": [
    "df_selected = df_all.loc[['smiles_ga', 'leading'], :]"
   ]
  },
  {
   "cell_type": "code",
   "execution_count": 79,
   "metadata": {},
   "outputs": [
    {
     "name": "stdout",
     "output_type": "stream",
     "text": [
      "\\toprule\n",
      "benchmark & smiles_ga & leading\\\\\n",
      "\\midrule\n",
      "Celecoxib rediscovery & 0.73 & 1.00\\\\\n",
      "Troglitazone rediscovery & 0.51 & 1.00\\\\\n",
      "Thiothixene rediscovery & 0.60 & 1.00\\\\\n",
      "Aripiprazole similarity & 0.83 & 1.00\\\\\n",
      "Albuterol similarity & 0.91 & 1.00\\\\\n",
      "Mestranol similarity & 0.79 & 1.00\\\\\n",
      "C11H24 & 0.83 & 0.99\\\\\n",
      "C9H10N2O2PF2Cl & 0.89 & 0.98\\\\\n",
      "Median molecules 1 & 0.33 & 0.44\\\\\n",
      "Median molecules 2 & 0.38 & 0.43\\\\\n",
      "Osimertinib MPO & 0.89 & 0.95\\\\\n",
      "Fexofenadine MPO & 0.93 & 1.00\\\\\n",
      "Ranolazine MPO & 0.88 & 0.92\\\\\n",
      "Perindopril MPO & 0.66 & 0.81\\\\\n",
      "Amlodipine MPO & 0.72 & 0.89\\\\\n",
      "Sitagliptin MPO & 0.69 & 0.89\\\\\n",
      "Zaleplon MPO & 0.41 & 0.75\\\\\n",
      "Valsartan SMARTS & 0.55 & 0.99\\\\\n",
      "Scaffold Hop & 0.97 & 1.00\\\\\n",
      "Deco Hop & 0.88 & 1.00\\\\\n",
      "\\bottomrule\n"
     ]
    }
   ],
   "source": [
    "print(\"\\\\toprule\")\n",
    "print(\"benchmark & \" + \" & \".join([f for f in df_selected.index if f != 'name']) + '\\\\\\\\')\n",
    "print('\\\\midrule')\n",
    "for column in df_selected.columns: \n",
    "    if column != 'name': \n",
    "        print(column + \" & \" + \" & \".join([\"{:.2f}\".format(v) for v in df_selected[column].tolist()] ) + \"\\\\\\\\\")\n",
    "print(\"\\\\bottomrule\")"
   ]
  },
  {
   "cell_type": "code",
   "execution_count": null,
   "metadata": {},
   "outputs": [],
   "source": []
  }
 ],
 "metadata": {
  "kernelspec": {
   "display_name": "Python 3",
   "language": "python",
   "name": "python3"
  },
  "language_info": {
   "codemirror_mode": {
    "name": "ipython",
    "version": 3
   },
   "file_extension": ".py",
   "mimetype": "text/x-python",
   "name": "python",
   "nbconvert_exporter": "python",
   "pygments_lexer": "ipython3",
   "version": "3.8.6"
  }
 },
 "nbformat": 4,
 "nbformat_minor": 4
}
